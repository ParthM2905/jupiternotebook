{
 "cells": [
  {
   "cell_type": "markdown",
   "id": "7d6cf066-1380-40f9-a5d0-19fb61caf2d3",
   "metadata": {},
   "source": [
    "#  Data Science Tools and Ecosystem"
   ]
  },
  {
   "cell_type": "markdown",
   "id": "779fc08b-4f46-49ed-bd90-8c67f1af87bc",
   "metadata": {},
   "source": [
    "In this notebook, Data Science Tools and Ecosystem are summarized."
   ]
  },
  {
   "cell_type": "markdown",
   "id": "ab3b0973-c1d7-44b2-a95e-82c339cb7d0e",
   "metadata": {
    "tags": []
   },
   "source": [
    "Some of the popular languages that Data Scientists use are:\n",
    "1. Python\n",
    "2. R\n",
    "3. Scala"
   ]
  },
  {
   "cell_type": "markdown",
   "id": "607d60fa-348a-4a21-992e-b06360449452",
   "metadata": {},
   "source": [
    "Some of the commonly used libraries used by Data Scientists include:\n",
    "1. Pytorch\n",
    "2. Scikit-learn\n",
    "3. TensorFlow"
   ]
  },
  {
   "cell_type": "markdown",
   "id": "c24d2212-e8d7-4d82-aede-5d9dc142e56f",
   "metadata": {
    "tags": []
   },
   "source": [
    "| Data Science Tools|\n",
    "|------------|\n",
    "| R Studio |\n",
    "| GitHub |\n",
    "| Anaconda |\n",
    "\n"
   ]
  },
  {
   "cell_type": "markdown",
   "id": "4e0e9193-5ec7-47af-a013-1f086a5f4429",
   "metadata": {},
   "source": [
    "### Below are a few examples of evaluating arithmetic expressions in Python"
   ]
  },
  {
   "cell_type": "code",
   "execution_count": 4,
   "id": "f7bb8825-5fd3-40d7-b77a-2322b325d3b4",
   "metadata": {
    "tags": []
   },
   "outputs": [
    {
     "data": {
      "text/plain": [
       "17"
      ]
     },
     "execution_count": 4,
     "metadata": {},
     "output_type": "execute_result"
    }
   ],
   "source": [
    "#This a simple arithmetic expression to mutiply then add integers\n",
    "(3*4)+5"
   ]
  },
  {
   "cell_type": "code",
   "execution_count": 5,
   "id": "ffc6d12b-59a3-4378-9fe6-ff779546d5bb",
   "metadata": {
    "tags": []
   },
   "outputs": [
    {
     "data": {
      "text/plain": [
       "3.3333333333333335"
      ]
     },
     "execution_count": 5,
     "metadata": {},
     "output_type": "execute_result"
    }
   ],
   "source": [
    "#This will convert 200 minutes to hours by diving by 60\n",
    "200/60"
   ]
  },
  {
   "cell_type": "markdown",
   "id": "3f29e688-fb20-4edf-b18f-55c0e9a66a45",
   "metadata": {},
   "source": [
    "**Objectives:**\n",
    "- List Popular Langugae\n",
    "- List libraries \n",
    "- Arithemtic Expersion\n",
    "- table formation\n",
    "- Bold Text"
   ]
  },
  {
   "cell_type": "markdown",
   "id": "9e299c22-8c08-43fd-beb3-f7df51b31c57",
   "metadata": {},
   "source": [
    "## Author\n",
    "Parth Mahajan"
   ]
  },
  {
   "cell_type": "code",
   "execution_count": null,
   "id": "b0f060f9-5a59-4c2e-96b9-cd3416f59c3c",
   "metadata": {},
   "outputs": [],
   "source": []
  }
 ],
 "metadata": {
  "kernelspec": {
   "display_name": "Python 3 (ipykernel)",
   "language": "python",
   "name": "python3"
  },
  "language_info": {
   "codemirror_mode": {
    "name": "ipython",
    "version": 3
   },
   "file_extension": ".py",
   "mimetype": "text/x-python",
   "name": "python",
   "nbconvert_exporter": "python",
   "pygments_lexer": "ipython3",
   "version": "3.11.4"
  }
 },
 "nbformat": 4,
 "nbformat_minor": 5
}
